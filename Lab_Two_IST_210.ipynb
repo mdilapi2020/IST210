{
  "nbformat": 4,
  "nbformat_minor": 0,
  "metadata": {
    "colab": {
      "name": "Lab Two IST 210",
      "provenance": [],
      "authorship_tag": "ABX9TyPv2gpqbQGznE6NCV+ZEmxE",
      "include_colab_link": true
    },
    "kernelspec": {
      "name": "python3",
      "display_name": "Python 3"
    }
  },
  "cells": [
    {
      "cell_type": "markdown",
      "metadata": {
        "id": "view-in-github",
        "colab_type": "text"
      },
      "source": [
        "<a href=\"https://colab.research.google.com/github/mdilapi2020/IST210/blob/master/Lab_Two_IST_210.ipynb\" target=\"_parent\"><img src=\"https://colab.research.google.com/assets/colab-badge.svg\" alt=\"Open In Colab\"/></a>"
      ]
    },
    {
      "cell_type": "markdown",
      "metadata": {
        "id": "zYXiNI5ML59t",
        "colab_type": "text"
      },
      "source": [
        "Michael DiLapi\n",
        "\n",
        "IST 210\n",
        "\n",
        "2/18/2020\n",
        "\n",
        "Dr. Dudas\n"
      ]
    },
    {
      "cell_type": "markdown",
      "metadata": {
        "id": "BOUDVMETOC6A",
        "colab_type": "text"
      },
      "source": [
        "\n",
        "\n",
        "\n",
        "\n",
        "\n",
        "\n",
        "\n",
        "\n",
        "\n",
        "\n",
        "\n",
        "**Lab Two Pet Shop**\n",
        "\n",
        "\n",
        "\n",
        "\n",
        "\n",
        "\n",
        "\n",
        "The objective of my ER diagram was to convey how a simplified pet shop's transaction may occur. There were six tables needed to complete the diagram. The first two tables established were transactions for a pet and transactions for Food. The transaction tables would sandwich a customer table in between them.  The customers who are first time purchasers of a pet need to establish a loyaltyID, which is a primary key, for the first time and returning customers need to use their loyaltyID to get a deal on their recurring purchases. Then, stemming out from the transaction for pets table, I created two additional tables. The first branch led to a table called Animals. In the Animals table, there are six different attributes: RFID_NUM, TypeOfAnimal, Breed, Size, Color, and Price. The second branch led to a table called Enclosures. The Enclosures table had four different attributes: CageID, TypeOfEnclosure, AnimalsKept, and SizeOfEnclosure.  These tables are necessary for the transaction for pets table because it allows us as a shop owner to know our inventory, what enclosures are empty so we can fill the space, and keep tables on what animals we need to get back in stock.  Transactions for Food had only one table that branched out from it. The table that branched out was aptly named Food. The Food table had five attributes: UPC, Brand, TypeOfFood, Flavor, Price. The purpose of this table was to keep track of what type of Food we have and what is needed for restocking. "
      ]
    },
    {
      "cell_type": "markdown",
      "metadata": {
        "id": "0T9IO8zLWX46",
        "colab_type": "text"
      },
      "source": [
        "![alt text](https://raw.githubusercontent.com/mdilapi2020/IST210/master/pictures/Lab%20Two%20IST%20210.png\n",
        ")"
      ]
    }
  ]
}
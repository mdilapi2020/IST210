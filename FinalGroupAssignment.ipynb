{
  "nbformat": 4,
  "nbformat_minor": 0,
  "metadata": {
    "colab": {
      "name": "FinalGroupAssignment.ipynb",
      "provenance": [],
      "include_colab_link": true
    },
    "kernelspec": {
      "name": "python3",
      "display_name": "Python 3"
    }
  },
  "cells": [
    {
      "cell_type": "markdown",
      "metadata": {
        "id": "view-in-github",
        "colab_type": "text"
      },
      "source": [
        "<a href=\"https://colab.research.google.com/github/mdilapi2020/IST210/blob/master/FinalGroupAssignment.ipynb\" target=\"_parent\"><img src=\"https://colab.research.google.com/assets/colab-badge.svg\" alt=\"Open In Colab\"/></a>"
      ]
    },
    {
      "cell_type": "markdown",
      "metadata": {
        "id": "iYrFm0ef3FWV",
        "colab_type": "text"
      },
      "source": [
        "# Auto Shop Database"
      ]
    },
    {
      "cell_type": "markdown",
      "metadata": {
        "id": "7M6io5Sl3Yhs",
        "colab_type": "text"
      },
      "source": [
        "## Introduction\n",
        "Our group decided to create an auto part company. This store allows for various products to be sold to the customers. In regards to this project, we made products such as windshield wiper fluid, batteries and such in order to keep it as simplistic as possible. Each one of these products came with a price and where they would be in regards to the store's location (Aisles) labeled accordingly. Another table we created includes employees, each with their respected employee identification number and employee email address so each employee can go into work and clock in or out respectively. With this in mind, we also created a customer table so regulars can create an account for various deals in the future."
      ]
    },
    {
      "cell_type": "code",
      "metadata": {
        "id": "nL-P4QDfCaNa",
        "colab_type": "code",
        "colab": {}
      },
      "source": [
        "%load_ext sql"
      ],
      "execution_count": 0,
      "outputs": []
    },
    {
      "cell_type": "code",
      "metadata": {
        "id": "f98kc63xCaYO",
        "colab_type": "code",
        "outputId": "4f8045d8-b65a-481b-b011-69901d7db4ea",
        "colab": {
          "base_uri": "https://localhost:8080/",
          "height": 34
        }
      },
      "source": [
        "%sql sqlite:///AutoShop.db"
      ],
      "execution_count": 0,
      "outputs": [
        {
          "output_type": "execute_result",
          "data": {
            "text/plain": [
              "'Connected: @AutoShop.db'"
            ]
          },
          "metadata": {
            "tags": []
          },
          "execution_count": 2
        }
      ]
    },
    {
      "cell_type": "code",
      "metadata": {
        "id": "PQOgapZiBmwE",
        "colab_type": "code",
        "outputId": "7815a64c-f743-46ff-f7d8-fe565ca0d8ac",
        "colab": {
          "base_uri": "https://localhost:8080/",
          "height": 67
        }
      },
      "source": [
        "%%sql\n",
        "CREATE TABLE Aisles(AislesNum text, ItemType text, Primary Key (AislesNum,ItemType));"
      ],
      "execution_count": 0,
      "outputs": [
        {
          "output_type": "stream",
          "text": [
            " * sqlite:///AutoShop.db\n",
            "Done.\n"
          ],
          "name": "stdout"
        },
        {
          "output_type": "execute_result",
          "data": {
            "text/plain": [
              "[]"
            ]
          },
          "metadata": {
            "tags": []
          },
          "execution_count": 3
        }
      ]
    },
    {
      "cell_type": "code",
      "metadata": {
        "id": "-p0i7LkkBmMq",
        "colab_type": "code",
        "outputId": "6509fd2e-fe7f-43a5-dc7f-459a383b4919",
        "colab": {
          "base_uri": "https://localhost:8080/",
          "height": 134
        }
      },
      "source": [
        "%%sql\n",
        "INSERT INTO Aisles VALUES ('Aisles 1', 'Oil Filters');\n",
        "INSERT INTO Aisles VALUES ('Aisles 2', 'Alternators');\n",
        "INSERT INTO Aisles VALUES ('Aisles 3', 'Wiper Blades');\n",
        "INSERT INTO Aisles VALUES ('Aisles 4', 'Batteries');\n",
        "INSERT INTO Aisles VALUES ('Aisles 5', 'Wiper Fluid');"
      ],
      "execution_count": 0,
      "outputs": [
        {
          "output_type": "stream",
          "text": [
            " * sqlite:///AutoShop.db\n",
            "1 rows affected.\n",
            "1 rows affected.\n",
            "1 rows affected.\n",
            "1 rows affected.\n",
            "1 rows affected.\n"
          ],
          "name": "stdout"
        },
        {
          "output_type": "execute_result",
          "data": {
            "text/plain": [
              "[]"
            ]
          },
          "metadata": {
            "tags": []
          },
          "execution_count": 4
        }
      ]
    },
    {
      "cell_type": "code",
      "metadata": {
        "id": "JGyzXSKRC11_",
        "colab_type": "code",
        "outputId": "8009ed50-b0c7-4e11-9ea4-3a13abdf075d",
        "colab": {
          "base_uri": "https://localhost:8080/",
          "height": 67
        }
      },
      "source": [
        "%%sql\n",
        "CREATE TABLE Items (UPC text, AislesNum text, Make text, ItemType text ,Price float, Primary Key (UPC, AislesNum, ItemType));"
      ],
      "execution_count": 0,
      "outputs": [
        {
          "output_type": "stream",
          "text": [
            " * sqlite:///AutoShop.db\n",
            "Done.\n"
          ],
          "name": "stdout"
        },
        {
          "output_type": "execute_result",
          "data": {
            "text/plain": [
              "[]"
            ]
          },
          "metadata": {
            "tags": []
          },
          "execution_count": 5
        }
      ]
    },
    {
      "cell_type": "code",
      "metadata": {
        "id": "B5HiQPD0EBCR",
        "colab_type": "code",
        "outputId": "8c2df2b9-c960-47df-bd2b-ba7004e9f74d",
        "colab": {
          "base_uri": "https://localhost:8080/",
          "height": 134
        }
      },
      "source": [
        "\n",
        "%%sql\n",
        "INSERT INTO Items VALUES ('123456789', '1', 'Presco', 'Oil Filters' ,6.99);\n",
        "INSERT INTO Items VALUES ('123456781', '2', 'Wenso','Alternators',193.99);\n",
        "INSERT INTO Items VALUES ('123456782', '3', 'Viper','Wiper Blades', 27.99);\n",
        "INSERT INTO Items VALUES ('123456783', '4', 'Curacell','Batteries' ,175.99);\n",
        "INSERT INTO Items VALUES ('123456784', '5', 'LiquidPro','Wiper Fluid' ,2.99);\n"
      ],
      "execution_count": 0,
      "outputs": [
        {
          "output_type": "stream",
          "text": [
            " * sqlite:///AutoShop.db\n",
            "1 rows affected.\n",
            "1 rows affected.\n",
            "1 rows affected.\n",
            "1 rows affected.\n",
            "1 rows affected.\n"
          ],
          "name": "stdout"
        },
        {
          "output_type": "execute_result",
          "data": {
            "text/plain": [
              "[]"
            ]
          },
          "metadata": {
            "tags": []
          },
          "execution_count": 6
        }
      ]
    },
    {
      "cell_type": "code",
      "metadata": {
        "id": "j4rpmKRXFpPD",
        "colab_type": "code",
        "outputId": "90537ef5-64bc-40a7-b359-646bf1bce069",
        "colab": {
          "base_uri": "https://localhost:8080/",
          "height": 67
        }
      },
      "source": [
        "%%sql\n",
        "CREATE TABLE Employee (EmployeeID text Primary Key, FName text, LName text, Email text, PhoneNum text);"
      ],
      "execution_count": 0,
      "outputs": [
        {
          "output_type": "stream",
          "text": [
            " * sqlite:///AutoShop.db\n",
            "Done.\n"
          ],
          "name": "stdout"
        },
        {
          "output_type": "execute_result",
          "data": {
            "text/plain": [
              "[]"
            ]
          },
          "metadata": {
            "tags": []
          },
          "execution_count": 7
        }
      ]
    },
    {
      "cell_type": "code",
      "metadata": {
        "id": "2duRY6ZAFjdC",
        "colab_type": "code",
        "outputId": "de7ba992-3b47-45da-d7f1-fc6abea79e80",
        "colab": {
          "base_uri": "https://localhost:8080/",
          "height": 134
        }
      },
      "source": [
        "%%sql\n",
        "INSERT INTO Employee VALUES ('123', 'John', 'Doe', 'Jdoe123@gmail.com', '914-555-1234');\n",
        "INSERT INTO Employee VALUES ('124', 'Mike', 'Ike', 'MikeI124@gmail.com', '914-552-1239');\n",
        "INSERT INTO Employee VALUES ('125', 'Dan', 'Smith', 'DSmith44@aol.com', '914-987-9090');\n",
        "INSERT INTO Employee VALUES ('162', 'Ryan', 'Burke','Rburke912@verizon.net', '914-989-2112');\n",
        "INSERT INTO Employee VALUES ('456', 'Colleen', 'Thatcher', 'ColleenT123@gmail.com', '917-181-1921');"
      ],
      "execution_count": 0,
      "outputs": [
        {
          "output_type": "stream",
          "text": [
            " * sqlite:///AutoShop.db\n",
            "1 rows affected.\n",
            "1 rows affected.\n",
            "1 rows affected.\n",
            "1 rows affected.\n",
            "1 rows affected.\n"
          ],
          "name": "stdout"
        },
        {
          "output_type": "execute_result",
          "data": {
            "text/plain": [
              "[]"
            ]
          },
          "metadata": {
            "tags": []
          },
          "execution_count": 8
        }
      ]
    },
    {
      "cell_type": "code",
      "metadata": {
        "id": "qCRwitq0GDsL",
        "colab_type": "code",
        "outputId": "986a45fe-a7b8-477b-cc61-570962c926ea",
        "colab": {
          "base_uri": "https://localhost:8080/",
          "height": 67
        }
      },
      "source": [
        "%%sql\n",
        "Create TABLE Cart(TransactionID text, ItemID int, UPC text, CustomerID text, EmployeeID text, Primary Key (TransactionID, ItemID, UPC,CustomerID,EmployeeID));"
      ],
      "execution_count": 0,
      "outputs": [
        {
          "output_type": "stream",
          "text": [
            " * sqlite:///AutoShop.db\n",
            "Done.\n"
          ],
          "name": "stdout"
        },
        {
          "output_type": "execute_result",
          "data": {
            "text/plain": [
              "[]"
            ]
          },
          "metadata": {
            "tags": []
          },
          "execution_count": 9
        }
      ]
    },
    {
      "cell_type": "code",
      "metadata": {
        "id": "6Acf9GkBHLom",
        "colab_type": "code",
        "outputId": "403da7e7-d393-4055-b24b-96fc4f0b9bc7",
        "colab": {
          "base_uri": "https://localhost:8080/",
          "height": 134
        }
      },
      "source": [
        "%%sql\n",
        "INSERT INTO Cart VALUES ('1', 1, '123456789', '422', '123');\n",
        "INSERT INTO Cart VALUES ('1', 2, '123456781', '422', '123');\n",
        "INSERT INTO Cart VALUES ('2', 1, '123456782', '321', '125');\n",
        "INSERT INTO Cart VALUES ('2', 2, '123456783', '321', '125');\n",
        "INSERT INTO Cart VALUES ('2', 3, '123456784', '321', '125');\n"
      ],
      "execution_count": 0,
      "outputs": [
        {
          "output_type": "stream",
          "text": [
            " * sqlite:///AutoShop.db\n",
            "1 rows affected.\n",
            "1 rows affected.\n",
            "1 rows affected.\n",
            "1 rows affected.\n",
            "1 rows affected.\n"
          ],
          "name": "stdout"
        },
        {
          "output_type": "execute_result",
          "data": {
            "text/plain": [
              "[]"
            ]
          },
          "metadata": {
            "tags": []
          },
          "execution_count": 10
        }
      ]
    },
    {
      "cell_type": "code",
      "metadata": {
        "id": "dNnd1AZyGzt8",
        "colab_type": "code",
        "outputId": "a94fa6fd-0962-4130-de0b-f9a9fffa7925",
        "colab": {
          "base_uri": "https://localhost:8080/",
          "height": 67
        }
      },
      "source": [
        "%%sql\n",
        "CREATE TABLE Customer(CustomerID text Primary Key, CustomerFName text, CustomerLName text, PhoneNum text);"
      ],
      "execution_count": 0,
      "outputs": [
        {
          "output_type": "stream",
          "text": [
            " * sqlite:///AutoShop.db\n",
            "Done.\n"
          ],
          "name": "stdout"
        },
        {
          "output_type": "execute_result",
          "data": {
            "text/plain": [
              "[]"
            ]
          },
          "metadata": {
            "tags": []
          },
          "execution_count": 11
        }
      ]
    },
    {
      "cell_type": "code",
      "metadata": {
        "id": "7bJ3Q01VHoaQ",
        "colab_type": "code",
        "outputId": "b55370e6-c24e-4153-d5e1-094d13877403",
        "colab": {
          "base_uri": "https://localhost:8080/",
          "height": 134
        }
      },
      "source": [
        "%%sql\n",
        "INSERT INTO Customer VALUES('321', 'Dan', 'Grossman', '914-420-9876');\n",
        "INSERT INTO Customer VALUES ('422', 'Mike', 'Leva', '914-321-4312');\n",
        "INSERT INTO Customer VALUES ('213', 'Robert', 'Dinota', '914-456-7642');\n",
        "INSERT INTO Customer VALUES ('452', 'Ryan', 'Hayes', '914-391-1818');\n",
        "INSERT INTO Customer VALUES ('765', 'Jess', 'Woods', '914-391-3242');\n",
        "\n"
      ],
      "execution_count": 0,
      "outputs": [
        {
          "output_type": "stream",
          "text": [
            " * sqlite:///AutoShop.db\n",
            "1 rows affected.\n",
            "1 rows affected.\n",
            "1 rows affected.\n",
            "1 rows affected.\n",
            "1 rows affected.\n"
          ],
          "name": "stdout"
        },
        {
          "output_type": "execute_result",
          "data": {
            "text/plain": [
              "[]"
            ]
          },
          "metadata": {
            "tags": []
          },
          "execution_count": 12
        }
      ]
    },
    {
      "cell_type": "markdown",
      "metadata": {
        "id": "g8m__gLwQ_g_",
        "colab_type": "text"
      },
      "source": [
        "We used our simple ER Diagram in order to ensure that when creating the tables and implementing data it would be less of a burden on the team. Our process for creating data was one person would look around at real auto parts stores, like Autozone or Pep Boys, and then pool real prices for the parts we wanted to include. Next, another person created fake names, phone numbers, and emails for the employees and customers. From there the person in charge of creating the tables would use the command INSERT INTO *Table* VALUES in order to upload these fictitious values."
      ]
    },
    {
      "cell_type": "code",
      "metadata": {
        "id": "NTZWdXfoojR2",
        "colab_type": "code",
        "outputId": "afc5cb77-7284-43a5-d33a-3787a57a6c26",
        "colab": {
          "base_uri": "https://localhost:8080/",
          "height": 92
        }
      },
      "source": [
        "%%sql\n",
        "Select I.ItemType, I.Price, A.AislesNum from Items as I, Aisles as A where I.ItemType = A.ItemType and I.ItemType like 'Oi%'"
      ],
      "execution_count": 0,
      "outputs": [
        {
          "output_type": "stream",
          "text": [
            " * sqlite:///AutoShop.db\n",
            "Done.\n"
          ],
          "name": "stdout"
        },
        {
          "output_type": "execute_result",
          "data": {
            "text/html": [
              "<table>\n",
              "    <tr>\n",
              "        <th>ItemType</th>\n",
              "        <th>Price</th>\n",
              "        <th>AislesNum</th>\n",
              "    </tr>\n",
              "    <tr>\n",
              "        <td>Oil Filters</td>\n",
              "        <td>6.99</td>\n",
              "        <td>Aisles 1</td>\n",
              "    </tr>\n",
              "</table>"
            ],
            "text/plain": [
              "[('Oil Filters', 6.99, 'Aisles 1')]"
            ]
          },
          "metadata": {
            "tags": []
          },
          "execution_count": 13
        }
      ]
    },
    {
      "cell_type": "markdown",
      "metadata": {
        "id": "hibOajKkQtlk",
        "colab_type": "text"
      },
      "source": [
        "This Query is helpful to the customer. The reason is because it allows the customer to understand where we keep our oil filters and how much they are going to need to spend. In addition, this query is useful for the employee as it can save him or her from fumbling around trying to find the right aisles if they do not have them memorized."
      ]
    },
    {
      "cell_type": "code",
      "metadata": {
        "id": "RieabNpwvi9W",
        "colab_type": "code",
        "outputId": "e24fb71b-a717-4a26-bc99-9c3f4036a47f",
        "colab": {
          "base_uri": "https://localhost:8080/",
          "height": 92
        }
      },
      "source": [
        "%%sql\n",
        "Select Count(ItemType) from Aisles where ItemType ='Oil Filters' and ItemType>1"
      ],
      "execution_count": 0,
      "outputs": [
        {
          "output_type": "stream",
          "text": [
            " * sqlite:///AutoShop.db\n",
            "Done.\n"
          ],
          "name": "stdout"
        },
        {
          "output_type": "execute_result",
          "data": {
            "text/html": [
              "<table>\n",
              "    <tr>\n",
              "        <th>Count(ItemType)</th>\n",
              "    </tr>\n",
              "    <tr>\n",
              "        <td>1</td>\n",
              "    </tr>\n",
              "</table>"
            ],
            "text/plain": [
              "[(1,)]"
            ]
          },
          "metadata": {
            "tags": []
          },
          "execution_count": 14
        }
      ]
    },
    {
      "cell_type": "markdown",
      "metadata": {
        "id": "zjYECjBYQpbd",
        "colab_type": "text"
      },
      "source": [
        "This specific query is helpful to both the employee and the customer. The benefit, or in some cases detriment, of this query is that if a customer is in a rush and needs to find this specific item they know if we have any in stock or not from there they can decide if they need to find another autoparts store. The employee also knows that if the item is no longer in stock then he needs to alert management to reorder more. "
      ]
    },
    {
      "cell_type": "code",
      "metadata": {
        "id": "lx9YjSfexcK1",
        "colab_type": "code",
        "outputId": "232684d5-93e9-42a1-eabe-edff88e4fc5c",
        "colab": {
          "base_uri": "https://localhost:8080/",
          "height": 92
        }
      },
      "source": [
        "%%sql\n",
        "Select Count(C.ItemID), SUM(I.Price) from Cart as C, Items as I where C.UPC= I.UPC"
      ],
      "execution_count": 0,
      "outputs": [
        {
          "output_type": "stream",
          "text": [
            " * sqlite:///AutoShop.db\n",
            "Done.\n"
          ],
          "name": "stdout"
        },
        {
          "output_type": "execute_result",
          "data": {
            "text/html": [
              "<table>\n",
              "    <tr>\n",
              "        <th>Count(C.ItemID)</th>\n",
              "        <th>SUM(I.Price)</th>\n",
              "    </tr>\n",
              "    <tr>\n",
              "        <td>5</td>\n",
              "        <td>407.95000000000005</td>\n",
              "    </tr>\n",
              "</table>"
            ],
            "text/plain": [
              "[(5, 407.95000000000005)]"
            ]
          },
          "metadata": {
            "tags": []
          },
          "execution_count": 15
        }
      ]
    },
    {
      "cell_type": "markdown",
      "metadata": {
        "id": "DpToe8tQQmqu",
        "colab_type": "text"
      },
      "source": [
        "This query's intended purpose is to create a total for the amount of items sold, in this case 5, and the total amount of money made for the day (407.95). This specific query is helpful to the manager from our scenario who is in charge of keeping a tab on totals to make sure nothing was stolen and the store was not losing money.\n",
        "\n",
        "> Indented block\n",
        "\n"
      ]
    },
    {
      "cell_type": "markdown",
      "metadata": {
        "id": "Hv537J3DUHI7",
        "colab_type": "text"
      },
      "source": [
        "![alt text](https://raw.githubusercontent.com/mdilapi2020/IST210/master/pictures/AutoShop.jpg)"
      ]
    },
    {
      "cell_type": "markdown",
      "metadata": {
        "id": "Dz8Gbk0fUKIr",
        "colab_type": "text"
      },
      "source": [
        "Our final ER diagram is still as simple as our previous iterations with some minor, yet necessary fixes in order to ensure a working database. For starters, we liked the idea of having a cart table because it allowed us to count the amount of items per transaction, and to keep tabs as to how many transactions per day. The cart table played nicely with our items table as we could join the two to add the prices for the total amount of transactions made in a day. The fix we made kept our table simple, yet an intuitive design."
      ]
    }
  ]
}
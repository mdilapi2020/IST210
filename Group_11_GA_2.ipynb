{
  "nbformat": 4,
  "nbformat_minor": 0,
  "metadata": {
    "colab": {
      "name": "Group 11 GA 2",
      "provenance": [],
      "authorship_tag": "ABX9TyNy37S6sSGdX0B4BoNJzsSY",
      "include_colab_link": true
    },
    "kernelspec": {
      "name": "python3",
      "display_name": "Python 3"
    }
  },
  "cells": [
    {
      "cell_type": "markdown",
      "metadata": {
        "id": "view-in-github",
        "colab_type": "text"
      },
      "source": [
        "<a href=\"https://colab.research.google.com/github/mdilapi2020/IST210/blob/master/Group_11_GA_2.ipynb\" target=\"_parent\"><img src=\"https://colab.research.google.com/assets/colab-badge.svg\" alt=\"Open In Colab\"/></a>"
      ]
    },
    {
      "cell_type": "markdown",
      "metadata": {
        "id": "L4bQOVEVfJCD",
        "colab_type": "text"
      },
      "source": [
        "Michael DiLapi \n",
        "\n",
        "Michaeel Deluca\n",
        "\n",
        "Javod Fields\n",
        "\n",
        "Bradley B.\n"
      ]
    },
    {
      "cell_type": "markdown",
      "metadata": {
        "id": "qZlizW8-fRS6",
        "colab_type": "text"
      },
      "source": [
        "Our business model is similar to that of an auto parts store like Autozone or Advanced Auto Parts. Our first table will be called Items keeps attributes about the items we have, examples are windshield wiper fluid or brake pads. Then our second table would be the Customer table with the primary key CustomerID and the attributes PhoneNumber, FirstName, and LastName to describe a specific customer and connect them to their transaction. The next table is what will house the Aisle number, we will have 16 aisles, where each product is located, for easier access if the product needed to be looked up.  Our primary unique identifier for our Employee table will be EmployeeID. The EmployeeID is used for multiple reasons, one to identify an employee checking someone out for commission purposes,we have 10 employees, and two for security reasons so a random consumer can not access the register without an employee present.  Our fifth table, Cart, has the primary key TransactionID as well as the attributes UPC, CustomerID, EmployeeID, and Totals in order to identify a specific transaction relative to the specific customer making the purchase. The item’s UPC will identify which specific part is being bought by a customer. Our goal for this store is to see how the average total of sales in dollars on a given day.  We will do this by reviewing the typical interactions at our store. First an employee would enter their unique id into the register allowing transactions to occur. Then if and when a customer enters our store they may or may not need help locating various items, from which an employee can simply check our database which will give the location and price of the product the consumer is looking for. Then when the customer finds the items they need they head to a register and check out. Once the total is calculated for that customer, that total will be added to the pool of other totals for that day.\n"
      ]
    },
    {
      "cell_type": "markdown",
      "metadata": {
        "id": "NXhkcWnwf6PG",
        "colab_type": "text"
      },
      "source": [
        "![alt text](https://raw.githubusercontent.com/mdilapi2020/IST210/master/pictures/AutoShop.jpg)"
      ]
    }
  ]
}
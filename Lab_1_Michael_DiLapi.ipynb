{
  "nbformat": 4,
  "nbformat_minor": 0,
  "metadata": {
    "colab": {
      "name": "Lab 1 Michael DiLapi.ipynb",
      "provenance": [],
      "authorship_tag": "ABX9TyOxAy9Ka9FRm9lwd7F9dvsP",
      "include_colab_link": true
    },
    "kernelspec": {
      "name": "python3",
      "display_name": "Python 3"
    }
  },
  "cells": [
    {
      "cell_type": "markdown",
      "metadata": {
        "id": "view-in-github",
        "colab_type": "text"
      },
      "source": [
        "<a href=\"https://colab.research.google.com/github/mdilapi2020/IST210/blob/master/Lab_1_Michael_DiLapi.ipynb\" target=\"_parent\"><img src=\"https://colab.research.google.com/assets/colab-badge.svg\" alt=\"Open In Colab\"/></a>"
      ]
    },
    {
      "cell_type": "markdown",
      "metadata": {
        "id": "rvfCzKIOFC7y",
        "colab_type": "text"
      },
      "source": [
        "###Name\n",
        "Michael DiLapi\n"
      ]
    },
    {
      "cell_type": "markdown",
      "metadata": {
        "id": "3EfJCkELFlIm",
        "colab_type": "text"
      },
      "source": [
        "###IST Interests \n",
        "Coding\n",
        "\n",
        "Learing how to keep proper system security\n"
      ]
    },
    {
      "cell_type": "markdown",
      "metadata": {
        "id": "dxj5FuQqGJ7M",
        "colab_type": "text"
      },
      "source": [
        "###Future Job\n",
        "\n",
        "Working in one of the three lettered agencies preferably the CIA"
      ]
    },
    {
      "cell_type": "markdown",
      "metadata": {
        "id": "koCf71DfGVkJ",
        "colab_type": "text"
      },
      "source": [
        "###Picture of myself "
      ]
    }
  ]
}
{
  "nbformat": 4,
  "nbformat_minor": 0,
  "metadata": {
    "colab": {
      "name": "Lab 1 Michael DiLapi.ipynb",
      "provenance": [],
      "collapsed_sections": [],
      "authorship_tag": "ABX9TyO2+GcjiNF4Ir2/v5AaM+E9",
      "include_colab_link": true
    },
    "kernelspec": {
      "name": "python3",
      "display_name": "Python 3"
    }
  },
  "cells": [
    {
      "cell_type": "markdown",
      "metadata": {
        "id": "view-in-github",
        "colab_type": "text"
      },
      "source": [
        "<a href=\"https://colab.research.google.com/github/mdilapi2020/IST210/blob/master/Lab_1_Michael_DiLapi.ipynb\" target=\"_parent\"><img src=\"https://colab.research.google.com/assets/colab-badge.svg\" alt=\"Open In Colab\"/></a>"
      ]
    },
    {
      "cell_type": "markdown",
      "metadata": {
        "colab_type": "text",
        "id": "aVGCtYQ2Kn7p"
      },
      "source": [
        "![alt text](https://)"
      ]
    },
    {
      "cell_type": "markdown",
      "metadata": {
        "id": "rvfCzKIOFC7y",
        "colab_type": "text"
      },
      "source": [
        "###Name\n",
        "Michael DiLapi\n"
      ]
    },
    {
      "cell_type": "markdown",
      "metadata": {
        "id": "3EfJCkELFlIm",
        "colab_type": "text"
      },
      "source": [
        "###IST Interests \n",
        "Coding\n",
        "\n",
        "Learing how to keep proper system security\n"
      ]
    },
    {
      "cell_type": "markdown",
      "metadata": {
        "id": "dxj5FuQqGJ7M",
        "colab_type": "text"
      },
      "source": [
        "###Future Job\n",
        "\n",
        "Working in one of the three lettered agencies preferably the CIA"
      ]
    },
    {
      "cell_type": "markdown",
      "metadata": {
        "colab_type": "text",
        "id": "35AH_XRlKnfn"
      },
      "source": [
        "###Picture of myself \n"
      ]
    },
    {
      "cell_type": "markdown",
      "metadata": {
        "id": "Avt-JA9SKvgG",
        "colab_type": "text"
      },
      "source": [
        "![alt text](https://raw.githubusercontent.com/mdilapi2020/IST210/master/pictures/IST%20210%20picture%20of%20self.jpg)"
      ]
    }
  ]
}